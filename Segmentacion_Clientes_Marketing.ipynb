{
 "cells": [
  {
   "cell_type": "markdown",
   "id": "7e21f4dd",
   "metadata": {},
   "source": [
    "# Segmentación de Clientes para Estrategias de Marketing Personalizadas con K-Means"
   ]
  },
  {
   "cell_type": "markdown",
   "id": "51dd1027",
   "metadata": {},
   "source": [
    "\n",
    "## 1. Introducción  \n",
    "En un entorno cada vez más competitivo, entender a los clientes es clave para crear campañas de marketing efectivas. Este proyecto utiliza técnicas de Ciencia de Datos para segmentar a los clientes de una empresa utilizando datos de comportamiento de compra y características demográficas.\n",
    "\n",
    "La segmentación permite identificar patrones comunes en grupos de clientes con el fin de desarrollar estrategias más efectivas de retención, fidelización y ventas cruzadas.\n"
   ]
  },
  {
   "cell_type": "markdown",
   "id": "09c5d38f",
   "metadata": {},
   "source": [
    "\n",
    "## 2. Objetivo del Proyecto  \n",
    "- Aplicar técnicas de clustering (K-Means) para segmentar a los clientes con base en variables como ingreso, gasto, frecuencia de compra y recencia.  \n",
    "- Visualizar y analizar los perfiles de cada grupo para sugerir estrategias de marketing específicas.\n"
   ]
  },
  {
   "cell_type": "markdown",
   "id": "6277477e",
   "metadata": {},
   "source": [
    "\n",
    "## 3. Hipótesis  \n",
    "“Los clientes pueden agruparse en distintos segmentos con características claras que permitan aplicar estrategias de marketing diferenciadas.”\n"
   ]
  },
  {
   "cell_type": "markdown",
   "id": "3e81ffed",
   "metadata": {},
   "source": [
    "\n",
    "## 4. Dataset Utilizado  \n",
    "**Nombre:** `ifood_df.csv`  \n",
    "**Fuente:** Kaggle – *Marketing Analytics Dataset*\n",
    "\n",
    "### Variables clave:\n",
    "- `Income`: Ingreso mensual  \n",
    "- `Recency`: Días desde la última compra  \n",
    "- `MntTotal`: Gasto total  \n",
    "- `NumWebPurchases`, `NumCatalogPurchases`, `NumStorePurchases`: Canales de compra\n"
   ]
  },
  {
   "cell_type": "markdown",
   "id": "db3c9ef6",
   "metadata": {},
   "source": [
    "## Importar bibliotecas"
   ]
  },
  {
   "cell_type": "code",
   "execution_count": null,
   "id": "42e21c7c",
   "metadata": {},
   "outputs": [],
   "source": [
    "\n",
    "import pandas as pd\n",
    "import numpy as np\n",
    "import matplotlib.pyplot as plt\n",
    "import seaborn as sns\n",
    "from sklearn.preprocessing import StandardScaler\n",
    "from sklearn.cluster import KMeans\n",
    "from sklearn.decomposition import PCA\n"
   ]
  },
  {
   "cell_type": "markdown",
   "id": "384718cd",
   "metadata": {},
   "source": [
    "## Cargar datos"
   ]
  },
  {
   "cell_type": "code",
   "execution_count": null,
   "id": "d9e365a6",
   "metadata": {},
   "outputs": [],
   "source": [
    "\n",
    "df = pd.read_csv('ifood_df.csv')\n",
    "df.head()\n"
   ]
  },
  {
   "cell_type": "markdown",
   "id": "550e04c6",
   "metadata": {},
   "source": [
    "## Revisión general"
   ]
  },
  {
   "cell_type": "code",
   "execution_count": null,
   "id": "f1614bb0",
   "metadata": {},
   "outputs": [],
   "source": [
    "\n",
    "df.info()\n",
    "df.describe()\n",
    "df.isnull().sum()\n"
   ]
  },
  {
   "cell_type": "markdown",
   "id": "f84451e6",
   "metadata": {},
   "source": [
    "\n",
    "## 5. Preprocesamiento  \n",
    "No se encontraron valores nulos.  \n",
    "Se seleccionaron variables numéricas relevantes para la segmentación: `Income`, `Recency`, `MntTotal`, `NumWebPurchases`, `NumCatalogPurchases`, `NumStorePurchases`.  \n",
    "Se aplicó escalado estándar para homogeneizar las magnitudes.\n"
   ]
  },
  {
   "cell_type": "code",
   "execution_count": null,
   "id": "e13f0a26",
   "metadata": {},
   "outputs": [],
   "source": [
    "\n",
    "cols_to_use = ['Income', 'Recency', 'MntTotal', 'NumWebPurchases', 'NumCatalogPurchases', 'NumStorePurchases']\n",
    "X = df[cols_to_use]\n",
    "scaler = StandardScaler()\n",
    "X_scaled = scaler.fit_transform(X)\n"
   ]
  },
  {
   "cell_type": "markdown",
   "id": "12e5d686",
   "metadata": {},
   "source": [
    "## 6. Técnica Utilizada"
   ]
  },
  {
   "cell_type": "code",
   "execution_count": null,
   "id": "756239e8",
   "metadata": {},
   "outputs": [],
   "source": [
    "\n",
    "kmeans = KMeans(n_clusters=4, random_state=42)\n",
    "df['cluster'] = kmeans.fit_predict(X_scaled)\n"
   ]
  },
  {
   "cell_type": "markdown",
   "id": "a8f9f3e8",
   "metadata": {},
   "source": [
    "## 7. Resultados y Hallazgos"
   ]
  },
  {
   "cell_type": "code",
   "execution_count": null,
   "id": "880cd518",
   "metadata": {},
   "outputs": [],
   "source": [
    "\n",
    "sns.boxplot(x='cluster', y='MntTotal', data=df)\n",
    "plt.title('Distribución de Gasto Total por Cluster')\n",
    "plt.show()\n"
   ]
  },
  {
   "cell_type": "code",
   "execution_count": null,
   "id": "5782301f",
   "metadata": {},
   "outputs": [],
   "source": [
    "\n",
    "pca = PCA(n_components=2)\n",
    "components = pca.fit_transform(X_scaled)\n",
    "df['PCA1'] = components[:, 0]\n",
    "df['PCA2'] = components[:, 1]\n",
    "sns.scatterplot(data=df, x='PCA1', y='PCA2', hue='cluster', palette='tab10')\n",
    "plt.title('Clusters visualizados con PCA')\n",
    "plt.show()\n"
   ]
  },
  {
   "cell_type": "code",
   "execution_count": null,
   "id": "0830648a",
   "metadata": {},
   "outputs": [],
   "source": [
    "\n",
    "df.groupby('cluster')[['Income', 'MntTotal', 'Recency', 'NumWebPurchases']].mean()\n"
   ]
  },
  {
   "cell_type": "code",
   "execution_count": null,
   "id": "9b28aad2",
   "metadata": {},
   "outputs": [],
   "source": [
    "\n",
    "def segment_description(row):\n",
    "    if row['cluster'] == 0:\n",
    "        return 'Alto ingreso, alto gasto'\n",
    "    elif row['cluster'] == 1:\n",
    "        return 'Bajo ingreso, bajo gasto'\n",
    "    elif row['cluster'] == 2:\n",
    "        return 'Ingreso medio, gasto medio'\n",
    "    else:\n",
    "        return 'Clientes recientes, bajo gasto'\n",
    "\n",
    "df['Segment'] = df.apply(segment_description, axis=1)\n"
   ]
  },
  {
   "cell_type": "code",
   "execution_count": null,
   "id": "65cbce0a",
   "metadata": {},
   "outputs": [],
   "source": [
    "\n",
    "sns.heatmap(df.groupby('cluster')[['Income', 'MntTotal', 'Recency']].mean(), annot=True, cmap='coolwarm')\n",
    "plt.title('Heatmap por Cluster')\n",
    "plt.show()\n"
   ]
  },
  {
   "cell_type": "markdown",
   "id": "22258d9a",
   "metadata": {},
   "source": [
    "\n",
    "## 8. Conclusiones Generales  \n",
    "- La segmentación reveló 4 grupos bien diferenciados con comportamientos de compra y niveles de ingreso distintos.  \n",
    "- El Cluster 0 representa a los clientes más rentables, ideales para programas de fidelización.  \n",
    "- El Cluster 3, aunque gasta poco, representa clientes recientes con potencial de crecimiento si se trabajan campañas de retención.\n"
   ]
  },
  {
   "cell_type": "markdown",
   "id": "56c8436b",
   "metadata": {},
   "source": [
    "\n",
    "## 9. Recomendaciones  \n",
    "- Dirigir campañas exclusivas al cluster 0 con beneficios premium.  \n",
    "- Activar campañas de reactivación para los clientes del cluster 1 y 3.  \n",
    "- Monitorear periódicamente los segmentos para detectar cambios de comportamiento.\n"
   ]
  }
 ],
 "metadata": {},
 "nbformat": 4,
 "nbformat_minor": 5
}
